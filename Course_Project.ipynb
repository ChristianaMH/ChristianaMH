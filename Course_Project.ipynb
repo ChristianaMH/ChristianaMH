{
  "cells": [
    {
      "cell_type": "markdown",
      "metadata": {
        "id": "view-in-github",
        "colab_type": "text"
      },
      "source": [
        "<a href=\"https://colab.research.google.com/github/ChristianaMH/ChristianaMH/blob/main/Course_Project.ipynb\" target=\"_parent\"><img src=\"https://colab.research.google.com/assets/colab-badge.svg\" alt=\"Open In Colab\"/></a>"
      ]
    },
    {
      "cell_type": "markdown",
      "source": [
        "# **Course Project: Comparing Multiple Models for Most Accurate Regression**\n",
        "\n",
        "by Christiana Hellenbrand U#29955524"
      ],
      "metadata": {
        "id": "JwqttlQ8Hqx1"
      }
    },
    {
      "cell_type": "code",
      "source": [],
      "metadata": {
        "id": "-llyzCpKaLZY"
      },
      "execution_count": null,
      "outputs": []
    },
    {
      "cell_type": "markdown",
      "source": [
        "###Step 1: Problem Definition"
      ],
      "metadata": {
        "id": "BXoVFmSLBjIl"
      }
    },
    {
      "cell_type": "markdown",
      "source": [
        "In this problem, three regression models, Linear Regression, Decision Tree Regressor, and Random Forest Tree Regressor, will be used to evaluate which model is best for predicting the continuous value of a given data point. \n",
        "\n",
        "The chosen dataset is the california housing file that includes information, such as the longitude/latitude, median housing age, total rooms, total bedrooms, population, households, median income, and median house value.\n",
        "\n",
        "The target data point in this case is the median house value.\n",
        "\n",
        "The relevant features of this dataset include the house median age, total rooms, total bedrooms, households, and median income.\n",
        "\n",
        "This project will determine which of the three models will be the most accurate for predicting the continuity of the median house value and what methods can be used to improve the results of this analysis. "
      ],
      "metadata": {
        "id": "-Xr73CzAGiOK"
      }
    },
    {
      "cell_type": "markdown",
      "source": [
        "###Step 2: Data Cleaning & Preprocessing"
      ],
      "metadata": {
        "id": "f3pU9F2EBowN"
      }
    },
    {
      "cell_type": "markdown",
      "source": [
        "In this step, the california_housing.csv file will be saved as a dataframe and cleaned by removing any irrelevant data and filling missing values with a default integer. \n",
        "\n",
        "This will also allow us to see all the necessary information pertaining to this file. \n",
        "\n",
        "The relevant columns for this analysis include the house median age, total rooms, total bedrooms, households, and median income, also known as our features.\n",
        "\n",
        "Data will be cleaned through preprocessing function created below. "
      ],
      "metadata": {
        "id": "45PbqWkJGzxg"
      }
    },
    {
      "cell_type": "code",
      "source": [
        "import pandas as pd\n",
        "\n",
        "cali_df = pd.read_csv('california_housing.csv') #Reads the california_housing.csv file and saves it as 'cali_df'\n",
        "cali_df.head() #returns first five rows of 'cali_df' dataframe"
      ],
      "metadata": {
        "colab": {
          "base_uri": "https://localhost:8080/",
          "height": 206
        },
        "id": "AtStZn2vhjzM",
        "outputId": "5b405d38-afe5-44a8-df54-6d0f29b2257b"
      },
      "execution_count": null,
      "outputs": [
        {
          "output_type": "execute_result",
          "data": {
            "text/plain": [
              "   Unnamed: 0  longitude  latitude  housing_median_age  total_rooms  \\\n",
              "0           0    -122.05     37.37                27.0       3885.0   \n",
              "1           1    -118.30     34.26                43.0       1510.0   \n",
              "2           2    -117.81     33.78                27.0       3589.0   \n",
              "3           3    -118.36     33.82                28.0         67.0   \n",
              "4           4    -119.67     36.33                19.0       1241.0   \n",
              "\n",
              "   total_bedrooms  population  households  median_income  median_house_value  \n",
              "0           661.0      1537.0       606.0         6.6085            344700.0  \n",
              "1           310.0       809.0       277.0         3.5990            176500.0  \n",
              "2           507.0      1484.0       495.0         5.7934            270500.0  \n",
              "3            15.0        49.0        11.0         6.1359            330000.0  \n",
              "4           244.0       850.0       237.0         2.9375             81700.0  "
            ],
            "text/html": [
              "\n",
              "  <div id=\"df-28d6ac4d-e538-4ed9-9fdc-d0e8b49745b2\">\n",
              "    <div class=\"colab-df-container\">\n",
              "      <div>\n",
              "<style scoped>\n",
              "    .dataframe tbody tr th:only-of-type {\n",
              "        vertical-align: middle;\n",
              "    }\n",
              "\n",
              "    .dataframe tbody tr th {\n",
              "        vertical-align: top;\n",
              "    }\n",
              "\n",
              "    .dataframe thead th {\n",
              "        text-align: right;\n",
              "    }\n",
              "</style>\n",
              "<table border=\"1\" class=\"dataframe\">\n",
              "  <thead>\n",
              "    <tr style=\"text-align: right;\">\n",
              "      <th></th>\n",
              "      <th>Unnamed: 0</th>\n",
              "      <th>longitude</th>\n",
              "      <th>latitude</th>\n",
              "      <th>housing_median_age</th>\n",
              "      <th>total_rooms</th>\n",
              "      <th>total_bedrooms</th>\n",
              "      <th>population</th>\n",
              "      <th>households</th>\n",
              "      <th>median_income</th>\n",
              "      <th>median_house_value</th>\n",
              "    </tr>\n",
              "  </thead>\n",
              "  <tbody>\n",
              "    <tr>\n",
              "      <th>0</th>\n",
              "      <td>0</td>\n",
              "      <td>-122.05</td>\n",
              "      <td>37.37</td>\n",
              "      <td>27.0</td>\n",
              "      <td>3885.0</td>\n",
              "      <td>661.0</td>\n",
              "      <td>1537.0</td>\n",
              "      <td>606.0</td>\n",
              "      <td>6.6085</td>\n",
              "      <td>344700.0</td>\n",
              "    </tr>\n",
              "    <tr>\n",
              "      <th>1</th>\n",
              "      <td>1</td>\n",
              "      <td>-118.30</td>\n",
              "      <td>34.26</td>\n",
              "      <td>43.0</td>\n",
              "      <td>1510.0</td>\n",
              "      <td>310.0</td>\n",
              "      <td>809.0</td>\n",
              "      <td>277.0</td>\n",
              "      <td>3.5990</td>\n",
              "      <td>176500.0</td>\n",
              "    </tr>\n",
              "    <tr>\n",
              "      <th>2</th>\n",
              "      <td>2</td>\n",
              "      <td>-117.81</td>\n",
              "      <td>33.78</td>\n",
              "      <td>27.0</td>\n",
              "      <td>3589.0</td>\n",
              "      <td>507.0</td>\n",
              "      <td>1484.0</td>\n",
              "      <td>495.0</td>\n",
              "      <td>5.7934</td>\n",
              "      <td>270500.0</td>\n",
              "    </tr>\n",
              "    <tr>\n",
              "      <th>3</th>\n",
              "      <td>3</td>\n",
              "      <td>-118.36</td>\n",
              "      <td>33.82</td>\n",
              "      <td>28.0</td>\n",
              "      <td>67.0</td>\n",
              "      <td>15.0</td>\n",
              "      <td>49.0</td>\n",
              "      <td>11.0</td>\n",
              "      <td>6.1359</td>\n",
              "      <td>330000.0</td>\n",
              "    </tr>\n",
              "    <tr>\n",
              "      <th>4</th>\n",
              "      <td>4</td>\n",
              "      <td>-119.67</td>\n",
              "      <td>36.33</td>\n",
              "      <td>19.0</td>\n",
              "      <td>1241.0</td>\n",
              "      <td>244.0</td>\n",
              "      <td>850.0</td>\n",
              "      <td>237.0</td>\n",
              "      <td>2.9375</td>\n",
              "      <td>81700.0</td>\n",
              "    </tr>\n",
              "  </tbody>\n",
              "</table>\n",
              "</div>\n",
              "      <button class=\"colab-df-convert\" onclick=\"convertToInteractive('df-28d6ac4d-e538-4ed9-9fdc-d0e8b49745b2')\"\n",
              "              title=\"Convert this dataframe to an interactive table.\"\n",
              "              style=\"display:none;\">\n",
              "        \n",
              "  <svg xmlns=\"http://www.w3.org/2000/svg\" height=\"24px\"viewBox=\"0 0 24 24\"\n",
              "       width=\"24px\">\n",
              "    <path d=\"M0 0h24v24H0V0z\" fill=\"none\"/>\n",
              "    <path d=\"M18.56 5.44l.94 2.06.94-2.06 2.06-.94-2.06-.94-.94-2.06-.94 2.06-2.06.94zm-11 1L8.5 8.5l.94-2.06 2.06-.94-2.06-.94L8.5 2.5l-.94 2.06-2.06.94zm10 10l.94 2.06.94-2.06 2.06-.94-2.06-.94-.94-2.06-.94 2.06-2.06.94z\"/><path d=\"M17.41 7.96l-1.37-1.37c-.4-.4-.92-.59-1.43-.59-.52 0-1.04.2-1.43.59L10.3 9.45l-7.72 7.72c-.78.78-.78 2.05 0 2.83L4 21.41c.39.39.9.59 1.41.59.51 0 1.02-.2 1.41-.59l7.78-7.78 2.81-2.81c.8-.78.8-2.07 0-2.86zM5.41 20L4 18.59l7.72-7.72 1.47 1.35L5.41 20z\"/>\n",
              "  </svg>\n",
              "      </button>\n",
              "      \n",
              "  <style>\n",
              "    .colab-df-container {\n",
              "      display:flex;\n",
              "      flex-wrap:wrap;\n",
              "      gap: 12px;\n",
              "    }\n",
              "\n",
              "    .colab-df-convert {\n",
              "      background-color: #E8F0FE;\n",
              "      border: none;\n",
              "      border-radius: 50%;\n",
              "      cursor: pointer;\n",
              "      display: none;\n",
              "      fill: #1967D2;\n",
              "      height: 32px;\n",
              "      padding: 0 0 0 0;\n",
              "      width: 32px;\n",
              "    }\n",
              "\n",
              "    .colab-df-convert:hover {\n",
              "      background-color: #E2EBFA;\n",
              "      box-shadow: 0px 1px 2px rgba(60, 64, 67, 0.3), 0px 1px 3px 1px rgba(60, 64, 67, 0.15);\n",
              "      fill: #174EA6;\n",
              "    }\n",
              "\n",
              "    [theme=dark] .colab-df-convert {\n",
              "      background-color: #3B4455;\n",
              "      fill: #D2E3FC;\n",
              "    }\n",
              "\n",
              "    [theme=dark] .colab-df-convert:hover {\n",
              "      background-color: #434B5C;\n",
              "      box-shadow: 0px 1px 3px 1px rgba(0, 0, 0, 0.15);\n",
              "      filter: drop-shadow(0px 1px 2px rgba(0, 0, 0, 0.3));\n",
              "      fill: #FFFFFF;\n",
              "    }\n",
              "  </style>\n",
              "\n",
              "      <script>\n",
              "        const buttonEl =\n",
              "          document.querySelector('#df-28d6ac4d-e538-4ed9-9fdc-d0e8b49745b2 button.colab-df-convert');\n",
              "        buttonEl.style.display =\n",
              "          google.colab.kernel.accessAllowed ? 'block' : 'none';\n",
              "\n",
              "        async function convertToInteractive(key) {\n",
              "          const element = document.querySelector('#df-28d6ac4d-e538-4ed9-9fdc-d0e8b49745b2');\n",
              "          const dataTable =\n",
              "            await google.colab.kernel.invokeFunction('convertToInteractive',\n",
              "                                                     [key], {});\n",
              "          if (!dataTable) return;\n",
              "\n",
              "          const docLinkHtml = 'Like what you see? Visit the ' +\n",
              "            '<a target=\"_blank\" href=https://colab.research.google.com/notebooks/data_table.ipynb>data table notebook</a>'\n",
              "            + ' to learn more about interactive tables.';\n",
              "          element.innerHTML = '';\n",
              "          dataTable['output_type'] = 'display_data';\n",
              "          await google.colab.output.renderOutput(dataTable, element);\n",
              "          const docLink = document.createElement('div');\n",
              "          docLink.innerHTML = docLinkHtml;\n",
              "          element.appendChild(docLink);\n",
              "        }\n",
              "      </script>\n",
              "    </div>\n",
              "  </div>\n",
              "  "
            ]
          },
          "metadata": {},
          "execution_count": 7
        }
      ]
    },
    {
      "cell_type": "code",
      "source": [
        "cali_df.info() #reports the neccessary information about the dataset\n",
        "\n",
        "#relevant data includes: house median age, total rooms, total bedrooms, househoulds, median income, and median house value\n",
        "#all relevant columns are of the correct data type: float64"
      ],
      "metadata": {
        "colab": {
          "base_uri": "https://localhost:8080/"
        },
        "id": "7V5uGerxpbBP",
        "outputId": "37c8fa30-c51f-4005-e001-7933df8fa8d6"
      },
      "execution_count": null,
      "outputs": [
        {
          "output_type": "stream",
          "name": "stdout",
          "text": [
            "<class 'pandas.core.frame.DataFrame'>\n",
            "RangeIndex: 20000 entries, 0 to 19999\n",
            "Data columns (total 10 columns):\n",
            " #   Column              Non-Null Count  Dtype  \n",
            "---  ------              --------------  -----  \n",
            " 0   Unnamed: 0          20000 non-null  int64  \n",
            " 1   longitude           20000 non-null  float64\n",
            " 2   latitude            20000 non-null  float64\n",
            " 3   housing_median_age  20000 non-null  float64\n",
            " 4   total_rooms         20000 non-null  float64\n",
            " 5   total_bedrooms      20000 non-null  float64\n",
            " 6   population          20000 non-null  float64\n",
            " 7   households          20000 non-null  float64\n",
            " 8   median_income       20000 non-null  float64\n",
            " 9   median_house_value  20000 non-null  float64\n",
            "dtypes: float64(9), int64(1)\n",
            "memory usage: 1.5 MB\n"
          ]
        }
      ]
    },
    {
      "cell_type": "code",
      "source": [
        "#function used for data cleaning and preprocessing:\n",
        "\n",
        "def data_preprocessing(ds): \n",
        "\n",
        "  #Removes all irrelevant columns\n",
        "  df2 = ds.drop(labels = ['Unnamed: 0','longitude','latitude','population'], axis = 1)\n",
        "\n",
        "  #Checks for missing values\n",
        "  for col in df2.columns:\n",
        "    df2[col] = df2[col].fillna(0) #replaces missing values with zero\n",
        "\n",
        "  #Checks if there are any rows that have missing entries for all columns and removes such rows from the given dataset\n",
        "  df2 = df2.dropna(axis = 0, how = 'all') \n",
        "\n",
        "  return df2 #returns dataframe\n",
        "\n",
        "#Calls function here annd saves as 'cleaned_cali_df'\n",
        "cleaned_cali_df = data_preprocessing(cali_df)\n",
        "\n",
        "#Reports results\n",
        "cleaned_cali_df.head()"
      ],
      "metadata": {
        "colab": {
          "base_uri": "https://localhost:8080/",
          "height": 206
        },
        "id": "b1V3lqhqkzMB",
        "outputId": "21f7531b-6d7b-4527-d663-cad7785e4db6"
      },
      "execution_count": null,
      "outputs": [
        {
          "output_type": "execute_result",
          "data": {
            "text/plain": [
              "   housing_median_age  total_rooms  total_bedrooms  households  median_income  \\\n",
              "0                27.0       3885.0           661.0       606.0         6.6085   \n",
              "1                43.0       1510.0           310.0       277.0         3.5990   \n",
              "2                27.0       3589.0           507.0       495.0         5.7934   \n",
              "3                28.0         67.0            15.0        11.0         6.1359   \n",
              "4                19.0       1241.0           244.0       237.0         2.9375   \n",
              "\n",
              "   median_house_value  \n",
              "0            344700.0  \n",
              "1            176500.0  \n",
              "2            270500.0  \n",
              "3            330000.0  \n",
              "4             81700.0  "
            ],
            "text/html": [
              "\n",
              "  <div id=\"df-56686221-c4db-4b29-8466-4b6e5e1d2df1\">\n",
              "    <div class=\"colab-df-container\">\n",
              "      <div>\n",
              "<style scoped>\n",
              "    .dataframe tbody tr th:only-of-type {\n",
              "        vertical-align: middle;\n",
              "    }\n",
              "\n",
              "    .dataframe tbody tr th {\n",
              "        vertical-align: top;\n",
              "    }\n",
              "\n",
              "    .dataframe thead th {\n",
              "        text-align: right;\n",
              "    }\n",
              "</style>\n",
              "<table border=\"1\" class=\"dataframe\">\n",
              "  <thead>\n",
              "    <tr style=\"text-align: right;\">\n",
              "      <th></th>\n",
              "      <th>housing_median_age</th>\n",
              "      <th>total_rooms</th>\n",
              "      <th>total_bedrooms</th>\n",
              "      <th>households</th>\n",
              "      <th>median_income</th>\n",
              "      <th>median_house_value</th>\n",
              "    </tr>\n",
              "  </thead>\n",
              "  <tbody>\n",
              "    <tr>\n",
              "      <th>0</th>\n",
              "      <td>27.0</td>\n",
              "      <td>3885.0</td>\n",
              "      <td>661.0</td>\n",
              "      <td>606.0</td>\n",
              "      <td>6.6085</td>\n",
              "      <td>344700.0</td>\n",
              "    </tr>\n",
              "    <tr>\n",
              "      <th>1</th>\n",
              "      <td>43.0</td>\n",
              "      <td>1510.0</td>\n",
              "      <td>310.0</td>\n",
              "      <td>277.0</td>\n",
              "      <td>3.5990</td>\n",
              "      <td>176500.0</td>\n",
              "    </tr>\n",
              "    <tr>\n",
              "      <th>2</th>\n",
              "      <td>27.0</td>\n",
              "      <td>3589.0</td>\n",
              "      <td>507.0</td>\n",
              "      <td>495.0</td>\n",
              "      <td>5.7934</td>\n",
              "      <td>270500.0</td>\n",
              "    </tr>\n",
              "    <tr>\n",
              "      <th>3</th>\n",
              "      <td>28.0</td>\n",
              "      <td>67.0</td>\n",
              "      <td>15.0</td>\n",
              "      <td>11.0</td>\n",
              "      <td>6.1359</td>\n",
              "      <td>330000.0</td>\n",
              "    </tr>\n",
              "    <tr>\n",
              "      <th>4</th>\n",
              "      <td>19.0</td>\n",
              "      <td>1241.0</td>\n",
              "      <td>244.0</td>\n",
              "      <td>237.0</td>\n",
              "      <td>2.9375</td>\n",
              "      <td>81700.0</td>\n",
              "    </tr>\n",
              "  </tbody>\n",
              "</table>\n",
              "</div>\n",
              "      <button class=\"colab-df-convert\" onclick=\"convertToInteractive('df-56686221-c4db-4b29-8466-4b6e5e1d2df1')\"\n",
              "              title=\"Convert this dataframe to an interactive table.\"\n",
              "              style=\"display:none;\">\n",
              "        \n",
              "  <svg xmlns=\"http://www.w3.org/2000/svg\" height=\"24px\"viewBox=\"0 0 24 24\"\n",
              "       width=\"24px\">\n",
              "    <path d=\"M0 0h24v24H0V0z\" fill=\"none\"/>\n",
              "    <path d=\"M18.56 5.44l.94 2.06.94-2.06 2.06-.94-2.06-.94-.94-2.06-.94 2.06-2.06.94zm-11 1L8.5 8.5l.94-2.06 2.06-.94-2.06-.94L8.5 2.5l-.94 2.06-2.06.94zm10 10l.94 2.06.94-2.06 2.06-.94-2.06-.94-.94-2.06-.94 2.06-2.06.94z\"/><path d=\"M17.41 7.96l-1.37-1.37c-.4-.4-.92-.59-1.43-.59-.52 0-1.04.2-1.43.59L10.3 9.45l-7.72 7.72c-.78.78-.78 2.05 0 2.83L4 21.41c.39.39.9.59 1.41.59.51 0 1.02-.2 1.41-.59l7.78-7.78 2.81-2.81c.8-.78.8-2.07 0-2.86zM5.41 20L4 18.59l7.72-7.72 1.47 1.35L5.41 20z\"/>\n",
              "  </svg>\n",
              "      </button>\n",
              "      \n",
              "  <style>\n",
              "    .colab-df-container {\n",
              "      display:flex;\n",
              "      flex-wrap:wrap;\n",
              "      gap: 12px;\n",
              "    }\n",
              "\n",
              "    .colab-df-convert {\n",
              "      background-color: #E8F0FE;\n",
              "      border: none;\n",
              "      border-radius: 50%;\n",
              "      cursor: pointer;\n",
              "      display: none;\n",
              "      fill: #1967D2;\n",
              "      height: 32px;\n",
              "      padding: 0 0 0 0;\n",
              "      width: 32px;\n",
              "    }\n",
              "\n",
              "    .colab-df-convert:hover {\n",
              "      background-color: #E2EBFA;\n",
              "      box-shadow: 0px 1px 2px rgba(60, 64, 67, 0.3), 0px 1px 3px 1px rgba(60, 64, 67, 0.15);\n",
              "      fill: #174EA6;\n",
              "    }\n",
              "\n",
              "    [theme=dark] .colab-df-convert {\n",
              "      background-color: #3B4455;\n",
              "      fill: #D2E3FC;\n",
              "    }\n",
              "\n",
              "    [theme=dark] .colab-df-convert:hover {\n",
              "      background-color: #434B5C;\n",
              "      box-shadow: 0px 1px 3px 1px rgba(0, 0, 0, 0.15);\n",
              "      filter: drop-shadow(0px 1px 2px rgba(0, 0, 0, 0.3));\n",
              "      fill: #FFFFFF;\n",
              "    }\n",
              "  </style>\n",
              "\n",
              "      <script>\n",
              "        const buttonEl =\n",
              "          document.querySelector('#df-56686221-c4db-4b29-8466-4b6e5e1d2df1 button.colab-df-convert');\n",
              "        buttonEl.style.display =\n",
              "          google.colab.kernel.accessAllowed ? 'block' : 'none';\n",
              "\n",
              "        async function convertToInteractive(key) {\n",
              "          const element = document.querySelector('#df-56686221-c4db-4b29-8466-4b6e5e1d2df1');\n",
              "          const dataTable =\n",
              "            await google.colab.kernel.invokeFunction('convertToInteractive',\n",
              "                                                     [key], {});\n",
              "          if (!dataTable) return;\n",
              "\n",
              "          const docLinkHtml = 'Like what you see? Visit the ' +\n",
              "            '<a target=\"_blank\" href=https://colab.research.google.com/notebooks/data_table.ipynb>data table notebook</a>'\n",
              "            + ' to learn more about interactive tables.';\n",
              "          element.innerHTML = '';\n",
              "          dataTable['output_type'] = 'display_data';\n",
              "          await google.colab.output.renderOutput(dataTable, element);\n",
              "          const docLink = document.createElement('div');\n",
              "          docLink.innerHTML = docLinkHtml;\n",
              "          element.appendChild(docLink);\n",
              "        }\n",
              "      </script>\n",
              "    </div>\n",
              "  </div>\n",
              "  "
            ]
          },
          "metadata": {},
          "execution_count": 9
        }
      ]
    },
    {
      "cell_type": "code",
      "source": [
        "cleaned_cali_df.info() #reports information of new dataframe after cleaning"
      ],
      "metadata": {
        "colab": {
          "base_uri": "https://localhost:8080/"
        },
        "id": "lqK8nj0e10ks",
        "outputId": "017fbd86-0f32-47e1-f212-022d5fdb1f97"
      },
      "execution_count": null,
      "outputs": [
        {
          "output_type": "stream",
          "name": "stdout",
          "text": [
            "<class 'pandas.core.frame.DataFrame'>\n",
            "Int64Index: 20000 entries, 0 to 19999\n",
            "Data columns (total 6 columns):\n",
            " #   Column              Non-Null Count  Dtype  \n",
            "---  ------              --------------  -----  \n",
            " 0   housing_median_age  20000 non-null  float64\n",
            " 1   total_rooms         20000 non-null  float64\n",
            " 2   total_bedrooms      20000 non-null  float64\n",
            " 3   households          20000 non-null  float64\n",
            " 4   median_income       20000 non-null  float64\n",
            " 5   median_house_value  20000 non-null  float64\n",
            "dtypes: float64(6)\n",
            "memory usage: 1.1 MB\n"
          ]
        }
      ]
    },
    {
      "cell_type": "code",
      "source": [
        "#creates list of the features for this problem:\n",
        "\n",
        "features_names = cleaned_cali_df.columns.to_list() #converts columns into list of features\n",
        "features_names.remove('median_house_value') #removes the response variable, 'median_house_value'\n",
        "\n",
        "features_names #reports list of features\n",
        "#this will be used in step 7"
      ],
      "metadata": {
        "id": "K8-qZb-SUWlk",
        "colab": {
          "base_uri": "https://localhost:8080/"
        },
        "outputId": "3474af72-7201-4c56-f39e-6f32e581c40f"
      },
      "execution_count": null,
      "outputs": [
        {
          "output_type": "execute_result",
          "data": {
            "text/plain": [
              "['housing_median_age',\n",
              " 'total_rooms',\n",
              " 'total_bedrooms',\n",
              " 'households',\n",
              " 'median_income']"
            ]
          },
          "metadata": {},
          "execution_count": 13
        }
      ]
    },
    {
      "cell_type": "markdown",
      "source": [
        "###Step 4: Data Scaling using Standardization"
      ],
      "metadata": {
        "id": "Aji4ZMzdB90v"
      }
    },
    {
      "cell_type": "markdown",
      "source": [
        "In this step, the data will be transformed in order to fit within the standardization scale. Standardization changes the dataset by subtracting each data from the mean value and dividing each by the standard deviation, also known as z-score.\n",
        "\n",
        "This is useful for verifying that the features do not contain significant outliers within the dataset that could change the results of this analysis. \n",
        "\n",
        "Note: Step three was skipped because there was no need to extract/add extra features.\n"
      ],
      "metadata": {
        "id": "9B6476gbHGZh"
      }
    },
    {
      "cell_type": "code",
      "source": [
        "from sklearn.preprocessing import StandardScaler\n",
        "\n",
        "scaler = StandardScaler() #creates an instance\n",
        "data_standardized = scaler.fit_transform(cleaned_cali_df) #transforms data to fit within scale\n",
        "df_standardized = pd.DataFrame(data_standardized, columns = cleaned_cali_df.columns.to_list()) #creates new dataframe with standardized data\n",
        "df_standardized.head() #reports first five rows"
      ],
      "metadata": {
        "colab": {
          "base_uri": "https://localhost:8080/",
          "height": 206
        },
        "id": "nLEsvl8_iOae",
        "outputId": "741dffb4-dd80-4f21-c3e4-1673834245dd"
      },
      "execution_count": null,
      "outputs": [
        {
          "output_type": "execute_result",
          "data": {
            "text/plain": [
              "   housing_median_age  total_rooms  total_bedrooms  households  median_income  \\\n",
              "0           -0.129372     0.573437        0.292445    0.278934       1.439960   \n",
              "1            1.142294    -0.517885       -0.542037   -0.582955      -0.143730   \n",
              "2           -0.129372     0.437424       -0.073681   -0.011855       1.011029   \n",
              "3           -0.049893    -1.180949       -1.243381   -1.279801       1.191263   \n",
              "4           -0.765205    -0.641491       -0.698948   -0.687744      -0.491832   \n",
              "\n",
              "   median_house_value  \n",
              "0            1.190933  \n",
              "1           -0.264661  \n",
              "2            0.548810  \n",
              "3            1.063720  \n",
              "4           -1.085056  "
            ],
            "text/html": [
              "\n",
              "  <div id=\"df-b10d2d97-9f53-4e60-9c6f-93f9162f3cb5\">\n",
              "    <div class=\"colab-df-container\">\n",
              "      <div>\n",
              "<style scoped>\n",
              "    .dataframe tbody tr th:only-of-type {\n",
              "        vertical-align: middle;\n",
              "    }\n",
              "\n",
              "    .dataframe tbody tr th {\n",
              "        vertical-align: top;\n",
              "    }\n",
              "\n",
              "    .dataframe thead th {\n",
              "        text-align: right;\n",
              "    }\n",
              "</style>\n",
              "<table border=\"1\" class=\"dataframe\">\n",
              "  <thead>\n",
              "    <tr style=\"text-align: right;\">\n",
              "      <th></th>\n",
              "      <th>housing_median_age</th>\n",
              "      <th>total_rooms</th>\n",
              "      <th>total_bedrooms</th>\n",
              "      <th>households</th>\n",
              "      <th>median_income</th>\n",
              "      <th>median_house_value</th>\n",
              "    </tr>\n",
              "  </thead>\n",
              "  <tbody>\n",
              "    <tr>\n",
              "      <th>0</th>\n",
              "      <td>-0.129372</td>\n",
              "      <td>0.573437</td>\n",
              "      <td>0.292445</td>\n",
              "      <td>0.278934</td>\n",
              "      <td>1.439960</td>\n",
              "      <td>1.190933</td>\n",
              "    </tr>\n",
              "    <tr>\n",
              "      <th>1</th>\n",
              "      <td>1.142294</td>\n",
              "      <td>-0.517885</td>\n",
              "      <td>-0.542037</td>\n",
              "      <td>-0.582955</td>\n",
              "      <td>-0.143730</td>\n",
              "      <td>-0.264661</td>\n",
              "    </tr>\n",
              "    <tr>\n",
              "      <th>2</th>\n",
              "      <td>-0.129372</td>\n",
              "      <td>0.437424</td>\n",
              "      <td>-0.073681</td>\n",
              "      <td>-0.011855</td>\n",
              "      <td>1.011029</td>\n",
              "      <td>0.548810</td>\n",
              "    </tr>\n",
              "    <tr>\n",
              "      <th>3</th>\n",
              "      <td>-0.049893</td>\n",
              "      <td>-1.180949</td>\n",
              "      <td>-1.243381</td>\n",
              "      <td>-1.279801</td>\n",
              "      <td>1.191263</td>\n",
              "      <td>1.063720</td>\n",
              "    </tr>\n",
              "    <tr>\n",
              "      <th>4</th>\n",
              "      <td>-0.765205</td>\n",
              "      <td>-0.641491</td>\n",
              "      <td>-0.698948</td>\n",
              "      <td>-0.687744</td>\n",
              "      <td>-0.491832</td>\n",
              "      <td>-1.085056</td>\n",
              "    </tr>\n",
              "  </tbody>\n",
              "</table>\n",
              "</div>\n",
              "      <button class=\"colab-df-convert\" onclick=\"convertToInteractive('df-b10d2d97-9f53-4e60-9c6f-93f9162f3cb5')\"\n",
              "              title=\"Convert this dataframe to an interactive table.\"\n",
              "              style=\"display:none;\">\n",
              "        \n",
              "  <svg xmlns=\"http://www.w3.org/2000/svg\" height=\"24px\"viewBox=\"0 0 24 24\"\n",
              "       width=\"24px\">\n",
              "    <path d=\"M0 0h24v24H0V0z\" fill=\"none\"/>\n",
              "    <path d=\"M18.56 5.44l.94 2.06.94-2.06 2.06-.94-2.06-.94-.94-2.06-.94 2.06-2.06.94zm-11 1L8.5 8.5l.94-2.06 2.06-.94-2.06-.94L8.5 2.5l-.94 2.06-2.06.94zm10 10l.94 2.06.94-2.06 2.06-.94-2.06-.94-.94-2.06-.94 2.06-2.06.94z\"/><path d=\"M17.41 7.96l-1.37-1.37c-.4-.4-.92-.59-1.43-.59-.52 0-1.04.2-1.43.59L10.3 9.45l-7.72 7.72c-.78.78-.78 2.05 0 2.83L4 21.41c.39.39.9.59 1.41.59.51 0 1.02-.2 1.41-.59l7.78-7.78 2.81-2.81c.8-.78.8-2.07 0-2.86zM5.41 20L4 18.59l7.72-7.72 1.47 1.35L5.41 20z\"/>\n",
              "  </svg>\n",
              "      </button>\n",
              "      \n",
              "  <style>\n",
              "    .colab-df-container {\n",
              "      display:flex;\n",
              "      flex-wrap:wrap;\n",
              "      gap: 12px;\n",
              "    }\n",
              "\n",
              "    .colab-df-convert {\n",
              "      background-color: #E8F0FE;\n",
              "      border: none;\n",
              "      border-radius: 50%;\n",
              "      cursor: pointer;\n",
              "      display: none;\n",
              "      fill: #1967D2;\n",
              "      height: 32px;\n",
              "      padding: 0 0 0 0;\n",
              "      width: 32px;\n",
              "    }\n",
              "\n",
              "    .colab-df-convert:hover {\n",
              "      background-color: #E2EBFA;\n",
              "      box-shadow: 0px 1px 2px rgba(60, 64, 67, 0.3), 0px 1px 3px 1px rgba(60, 64, 67, 0.15);\n",
              "      fill: #174EA6;\n",
              "    }\n",
              "\n",
              "    [theme=dark] .colab-df-convert {\n",
              "      background-color: #3B4455;\n",
              "      fill: #D2E3FC;\n",
              "    }\n",
              "\n",
              "    [theme=dark] .colab-df-convert:hover {\n",
              "      background-color: #434B5C;\n",
              "      box-shadow: 0px 1px 3px 1px rgba(0, 0, 0, 0.15);\n",
              "      filter: drop-shadow(0px 1px 2px rgba(0, 0, 0, 0.3));\n",
              "      fill: #FFFFFF;\n",
              "    }\n",
              "  </style>\n",
              "\n",
              "      <script>\n",
              "        const buttonEl =\n",
              "          document.querySelector('#df-b10d2d97-9f53-4e60-9c6f-93f9162f3cb5 button.colab-df-convert');\n",
              "        buttonEl.style.display =\n",
              "          google.colab.kernel.accessAllowed ? 'block' : 'none';\n",
              "\n",
              "        async function convertToInteractive(key) {\n",
              "          const element = document.querySelector('#df-b10d2d97-9f53-4e60-9c6f-93f9162f3cb5');\n",
              "          const dataTable =\n",
              "            await google.colab.kernel.invokeFunction('convertToInteractive',\n",
              "                                                     [key], {});\n",
              "          if (!dataTable) return;\n",
              "\n",
              "          const docLinkHtml = 'Like what you see? Visit the ' +\n",
              "            '<a target=\"_blank\" href=https://colab.research.google.com/notebooks/data_table.ipynb>data table notebook</a>'\n",
              "            + ' to learn more about interactive tables.';\n",
              "          element.innerHTML = '';\n",
              "          dataTable['output_type'] = 'display_data';\n",
              "          await google.colab.output.renderOutput(dataTable, element);\n",
              "          const docLink = document.createElement('div');\n",
              "          docLink.innerHTML = docLinkHtml;\n",
              "          element.appendChild(docLink);\n",
              "        }\n",
              "      </script>\n",
              "    </div>\n",
              "  </div>\n",
              "  "
            ]
          },
          "metadata": {},
          "execution_count": 15
        }
      ]
    },
    {
      "cell_type": "markdown",
      "source": [
        "###Step 5: Data Splitting"
      ],
      "metadata": {
        "id": "kkL1DTUHCEtV"
      }
    },
    {
      "cell_type": "markdown",
      "source": [
        "In this step, the dataset is separated into two dataframes: one for the response variable and one for the features. These dataframes are then split into train and test parts.\n",
        "\n",
        "The response variable (Y) is the target data, also known as the median house value, while the remaining columns, or the features, are the predictors (X)."
      ],
      "metadata": {
        "id": "0IPUmUmIHKip"
      }
    },
    {
      "cell_type": "code",
      "source": [
        "#splitting the data:\n",
        "\n",
        "#creates dataframe called 'Y' that includes only the column 'median_house_value' (the response variable)\n",
        "Y = pd.DataFrame(df_standardized['median_house_value'])\n",
        "\n",
        "#creates dataframe called 'X' that includes the remaining columns (the features columns)\n",
        "X = df_standardized.drop(labels = ['median_house_value'], axis = 1)\n",
        "\n",
        "#Prepares X_train, X_test, Y_train, and Y_test dataframes:\n",
        "from sklearn.model_selection import train_test_split\n",
        "\n",
        "X_train, X_test, Y_train, Y_test = train_test_split(X, Y, test_size=0.2, random_state=0)"
      ],
      "metadata": {
        "id": "az3Hq3qNiV41"
      },
      "execution_count": null,
      "outputs": []
    },
    {
      "cell_type": "markdown",
      "source": [
        "###Step 6: Model Selection, Model Fitting and Model Evaluation"
      ],
      "metadata": {
        "id": "9sBNO6nZCIBU"
      }
    },
    {
      "cell_type": "markdown",
      "source": [
        "In this step, each of the three models will be used to transform the test data in order to create predictions. These predictions, along with the test data, will be used to calculate the accuracy metrics for each model.\n",
        "\n",
        "The results from each model fitting will determine which has the best performance for the regression problem by evaluating which model contains the least error."
      ],
      "metadata": {
        "id": "nbpAT2AkHMy2"
      }
    },
    {
      "cell_type": "code",
      "source": [
        "from sklearn import metrics\n",
        "from sklearn.linear_model import LinearRegression\n",
        "from sklearn.tree import DecisionTreeRegressor\n",
        "from sklearn.ensemble import RandomForestRegressor\n",
        "\n",
        "model_list = [LinearRegression(), DecisionTreeRegressor(), RandomForestRegressor()] #creates list with the three models\n",
        "model_names = ['Linear Regression', 'Decision Tree', 'Random Forest'] #creates list with each model name\n",
        "mae_list = [] #empty list for mean absolute errors\n",
        "mse_list = [] #empty list for mean squared errors\n",
        "mape_list = [] #empty list for mean absolute percentage errors\n",
        "\n",
        "#for loop that calculates the accuracy metrics for each model:\n",
        "for model in range(len(model_list)):\n",
        "  regressor = model_list[model] #creates instance\n",
        "  regressor.fit(X_train, Y_train) #transforms the train data to fit the model\n",
        "  predictions = regressor.predict(X_test) #creates predictions for model\n",
        "\n",
        "  #produces metrics for the model: \n",
        "  mae_list.append(metrics.mean_absolute_error(Y_test, predictions)) #adds error to mae_list\n",
        "  mse_list.append(metrics.mean_squared_error(Y_test, predictions)) #adds error to mse_list\n",
        "  mape_list.append(metrics.mean_absolute_percentage_error(Y_test, predictions)) #adds error to mape_list\n",
        "\n",
        "#creates dictionary with results for the accuracy metrics\n",
        "results_dict = {'Model name': model_names, \n",
        "                'Mean Absolute Error':mae_list,\n",
        "                'Mean Squared Error':mse_list,\n",
        "                'Mean Absolute Percentage Error':mape_list}\n",
        "\n",
        "results_df = pd.DataFrame(results_dict) #creates dataframe will results\n",
        "results_df #reports results"
      ],
      "metadata": {
        "colab": {
          "base_uri": "https://localhost:8080/",
          "height": 198
        },
        "id": "rXTHD2p9iYkD",
        "outputId": "f80af21b-ad0f-4834-cb5f-269ff21c6392"
      },
      "execution_count": null,
      "outputs": [
        {
          "output_type": "stream",
          "name": "stderr",
          "text": [
            "/usr/local/lib/python3.7/dist-packages/ipykernel_launcher.py:15: DataConversionWarning: A column-vector y was passed when a 1d array was expected. Please change the shape of y to (n_samples,), for example using ravel().\n",
            "  from ipykernel import kernelapp as app\n"
          ]
        },
        {
          "output_type": "execute_result",
          "data": {
            "text/plain": [
              "          Model name  Mean Absolute Error  Mean Squared Error  \\\n",
              "0  Linear Regression             0.493893            0.445941   \n",
              "1      Decision Tree             0.622914            0.747737   \n",
              "2      Random Forest             0.450614            0.381761   \n",
              "\n",
              "   Mean Absolute Percentage Error  \n",
              "0                        1.510533  \n",
              "1                        2.836204  \n",
              "2                        1.909742  "
            ],
            "text/html": [
              "\n",
              "  <div id=\"df-cd02aa45-c4c4-4625-bc52-8bf8a84f910f\">\n",
              "    <div class=\"colab-df-container\">\n",
              "      <div>\n",
              "<style scoped>\n",
              "    .dataframe tbody tr th:only-of-type {\n",
              "        vertical-align: middle;\n",
              "    }\n",
              "\n",
              "    .dataframe tbody tr th {\n",
              "        vertical-align: top;\n",
              "    }\n",
              "\n",
              "    .dataframe thead th {\n",
              "        text-align: right;\n",
              "    }\n",
              "</style>\n",
              "<table border=\"1\" class=\"dataframe\">\n",
              "  <thead>\n",
              "    <tr style=\"text-align: right;\">\n",
              "      <th></th>\n",
              "      <th>Model name</th>\n",
              "      <th>Mean Absolute Error</th>\n",
              "      <th>Mean Squared Error</th>\n",
              "      <th>Mean Absolute Percentage Error</th>\n",
              "    </tr>\n",
              "  </thead>\n",
              "  <tbody>\n",
              "    <tr>\n",
              "      <th>0</th>\n",
              "      <td>Linear Regression</td>\n",
              "      <td>0.493893</td>\n",
              "      <td>0.445941</td>\n",
              "      <td>1.510533</td>\n",
              "    </tr>\n",
              "    <tr>\n",
              "      <th>1</th>\n",
              "      <td>Decision Tree</td>\n",
              "      <td>0.622914</td>\n",
              "      <td>0.747737</td>\n",
              "      <td>2.836204</td>\n",
              "    </tr>\n",
              "    <tr>\n",
              "      <th>2</th>\n",
              "      <td>Random Forest</td>\n",
              "      <td>0.450614</td>\n",
              "      <td>0.381761</td>\n",
              "      <td>1.909742</td>\n",
              "    </tr>\n",
              "  </tbody>\n",
              "</table>\n",
              "</div>\n",
              "      <button class=\"colab-df-convert\" onclick=\"convertToInteractive('df-cd02aa45-c4c4-4625-bc52-8bf8a84f910f')\"\n",
              "              title=\"Convert this dataframe to an interactive table.\"\n",
              "              style=\"display:none;\">\n",
              "        \n",
              "  <svg xmlns=\"http://www.w3.org/2000/svg\" height=\"24px\"viewBox=\"0 0 24 24\"\n",
              "       width=\"24px\">\n",
              "    <path d=\"M0 0h24v24H0V0z\" fill=\"none\"/>\n",
              "    <path d=\"M18.56 5.44l.94 2.06.94-2.06 2.06-.94-2.06-.94-.94-2.06-.94 2.06-2.06.94zm-11 1L8.5 8.5l.94-2.06 2.06-.94-2.06-.94L8.5 2.5l-.94 2.06-2.06.94zm10 10l.94 2.06.94-2.06 2.06-.94-2.06-.94-.94-2.06-.94 2.06-2.06.94z\"/><path d=\"M17.41 7.96l-1.37-1.37c-.4-.4-.92-.59-1.43-.59-.52 0-1.04.2-1.43.59L10.3 9.45l-7.72 7.72c-.78.78-.78 2.05 0 2.83L4 21.41c.39.39.9.59 1.41.59.51 0 1.02-.2 1.41-.59l7.78-7.78 2.81-2.81c.8-.78.8-2.07 0-2.86zM5.41 20L4 18.59l7.72-7.72 1.47 1.35L5.41 20z\"/>\n",
              "  </svg>\n",
              "      </button>\n",
              "      \n",
              "  <style>\n",
              "    .colab-df-container {\n",
              "      display:flex;\n",
              "      flex-wrap:wrap;\n",
              "      gap: 12px;\n",
              "    }\n",
              "\n",
              "    .colab-df-convert {\n",
              "      background-color: #E8F0FE;\n",
              "      border: none;\n",
              "      border-radius: 50%;\n",
              "      cursor: pointer;\n",
              "      display: none;\n",
              "      fill: #1967D2;\n",
              "      height: 32px;\n",
              "      padding: 0 0 0 0;\n",
              "      width: 32px;\n",
              "    }\n",
              "\n",
              "    .colab-df-convert:hover {\n",
              "      background-color: #E2EBFA;\n",
              "      box-shadow: 0px 1px 2px rgba(60, 64, 67, 0.3), 0px 1px 3px 1px rgba(60, 64, 67, 0.15);\n",
              "      fill: #174EA6;\n",
              "    }\n",
              "\n",
              "    [theme=dark] .colab-df-convert {\n",
              "      background-color: #3B4455;\n",
              "      fill: #D2E3FC;\n",
              "    }\n",
              "\n",
              "    [theme=dark] .colab-df-convert:hover {\n",
              "      background-color: #434B5C;\n",
              "      box-shadow: 0px 1px 3px 1px rgba(0, 0, 0, 0.15);\n",
              "      filter: drop-shadow(0px 1px 2px rgba(0, 0, 0, 0.3));\n",
              "      fill: #FFFFFF;\n",
              "    }\n",
              "  </style>\n",
              "\n",
              "      <script>\n",
              "        const buttonEl =\n",
              "          document.querySelector('#df-cd02aa45-c4c4-4625-bc52-8bf8a84f910f button.colab-df-convert');\n",
              "        buttonEl.style.display =\n",
              "          google.colab.kernel.accessAllowed ? 'block' : 'none';\n",
              "\n",
              "        async function convertToInteractive(key) {\n",
              "          const element = document.querySelector('#df-cd02aa45-c4c4-4625-bc52-8bf8a84f910f');\n",
              "          const dataTable =\n",
              "            await google.colab.kernel.invokeFunction('convertToInteractive',\n",
              "                                                     [key], {});\n",
              "          if (!dataTable) return;\n",
              "\n",
              "          const docLinkHtml = 'Like what you see? Visit the ' +\n",
              "            '<a target=\"_blank\" href=https://colab.research.google.com/notebooks/data_table.ipynb>data table notebook</a>'\n",
              "            + ' to learn more about interactive tables.';\n",
              "          element.innerHTML = '';\n",
              "          dataTable['output_type'] = 'display_data';\n",
              "          await google.colab.output.renderOutput(dataTable, element);\n",
              "          const docLink = document.createElement('div');\n",
              "          docLink.innerHTML = docLinkHtml;\n",
              "          element.appendChild(docLink);\n",
              "        }\n",
              "      </script>\n",
              "    </div>\n",
              "  </div>\n",
              "  "
            ]
          },
          "metadata": {},
          "execution_count": 26
        }
      ]
    },
    {
      "cell_type": "markdown",
      "source": [
        "Model Evaluation: Random Forest Regressor has the best performance for this regression problem because it produces the least error within the accuracy metrics. The Decision Tree Regressor has the worst performance because it produces the highest error compared to the other two models."
      ],
      "metadata": {
        "id": "ZKlmMae_DMvG"
      }
    },
    {
      "cell_type": "markdown",
      "source": [
        "###Step 7: Report Feature Importance"
      ],
      "metadata": {
        "id": "FkAZPRZJCMNP"
      }
    },
    {
      "cell_type": "markdown",
      "source": [
        "In this step, the results of each model's feature importance is reported as a graph and as a dataframe summary."
      ],
      "metadata": {
        "id": "ZkKLQJXxHOpT"
      }
    },
    {
      "cell_type": "markdown",
      "source": [
        "Model 1: Linear Regression Graph"
      ],
      "metadata": {
        "id": "KqAWwfjpDTwz"
      }
    },
    {
      "cell_type": "code",
      "source": [
        "from sklearn.linear_model import LinearRegression\n",
        "from matplotlib import pyplot\n",
        "import numpy as np\n",
        "\n",
        "#define the model\n",
        "model1 = LinearRegression()\n",
        "\n",
        "#fit the model\n",
        "model1.fit(X_train, Y_train)\n",
        "\n",
        "#get importance/predictions\n",
        "predictions_list = np.concatenate(model1.coef_) #converts to one dimensional array \n",
        "predictions_list = predictions_list.tolist() #converts to list\n",
        "\n",
        "#plots feature importance:\n",
        "pyplot.figure(figsize = (8,5))\n",
        "pyplot.bar([x for x in features_names], predictions_list)\n",
        "\n",
        "#titles\n",
        "pyplot.title('Linear Regression: Features Importance Bar Chart', fontsize = 15, color = 'Tab:blue')\n",
        "pyplot.xlabel(\"Features\", fontsize = 15)\n",
        "pyplot.ylabel('Importance Score', fontsize = 15)\n",
        "\n",
        "pyplot.xticks(fontsize = 10)\n",
        "pyplot.yticks(fontsize = 15)\n",
        "\n",
        "#returns graph\n",
        "pyplot.show()"
      ],
      "metadata": {
        "colab": {
          "base_uri": "https://localhost:8080/",
          "height": 358
        },
        "id": "TOiCBRM56bQq",
        "outputId": "716873f5-d246-492d-a4c6-fa5f556cc47f"
      },
      "execution_count": null,
      "outputs": [
        {
          "output_type": "display_data",
          "data": {
            "text/plain": [
              "<Figure size 576x360 with 1 Axes>"
            ],
            "image/png": "[encoded data removed]"
          },
          "metadata": {
            "needs_background": "light"
          }
        }
      ]
    },
    {
      "cell_type": "markdown",
      "source": [
        "Model 1: Linear Regression Results"
      ],
      "metadata": {
        "id": "CUKiXPQoD72e"
      }
    },
    {
      "cell_type": "code",
      "source": [
        "summary1 = pd.DataFrame({'LR Features': features_names , 'Scores': predictions_list}) #extracts features and coefficients and organizes as a dataframe\n",
        "summary1 #reports dataframe with estimated parameters of the fit model"
      ],
      "metadata": {
        "colab": {
          "base_uri": "https://localhost:8080/",
          "height": 206
        },
        "id": "R-MT1cIVc_KM",
        "outputId": "c007573a-b36b-4d3e-a11f-54de9ae88bd5"
      },
      "execution_count": null,
      "outputs": [
        {
          "output_type": "execute_result",
          "data": {
            "text/plain": [
              "          LR Features    Scores\n",
              "0  housing_median_age  0.210519\n",
              "1         total_rooms -0.496925\n",
              "2      total_bedrooms  0.572813\n",
              "3          households  0.011514\n",
              "4       median_income  0.816062"
            ],
            "text/html": [
              "\n",
              "  <div id=\"df-f7be0ccd-c3c6-4f7d-a761-538b564b599c\">\n",
              "    <div class=\"colab-df-container\">\n",
              "      <div>\n",
              "<style scoped>\n",
              "    .dataframe tbody tr th:only-of-type {\n",
              "        vertical-align: middle;\n",
              "    }\n",
              "\n",
              "    .dataframe tbody tr th {\n",
              "        vertical-align: top;\n",
              "    }\n",
              "\n",
              "    .dataframe thead th {\n",
              "        text-align: right;\n",
              "    }\n",
              "</style>\n",
              "<table border=\"1\" class=\"dataframe\">\n",
              "  <thead>\n",
              "    <tr style=\"text-align: right;\">\n",
              "      <th></th>\n",
              "      <th>LR Features</th>\n",
              "      <th>Scores</th>\n",
              "    </tr>\n",
              "  </thead>\n",
              "  <tbody>\n",
              "    <tr>\n",
              "      <th>0</th>\n",
              "      <td>housing_median_age</td>\n",
              "      <td>0.210519</td>\n",
              "    </tr>\n",
              "    <tr>\n",
              "      <th>1</th>\n",
              "      <td>total_rooms</td>\n",
              "      <td>-0.496925</td>\n",
              "    </tr>\n",
              "    <tr>\n",
              "      <th>2</th>\n",
              "      <td>total_bedrooms</td>\n",
              "      <td>0.572813</td>\n",
              "    </tr>\n",
              "    <tr>\n",
              "      <th>3</th>\n",
              "      <td>households</td>\n",
              "      <td>0.011514</td>\n",
              "    </tr>\n",
              "    <tr>\n",
              "      <th>4</th>\n",
              "      <td>median_income</td>\n",
              "      <td>0.816062</td>\n",
              "    </tr>\n",
              "  </tbody>\n",
              "</table>\n",
              "</div>\n",
              "      <button class=\"colab-df-convert\" onclick=\"convertToInteractive('df-f7be0ccd-c3c6-4f7d-a761-538b564b599c')\"\n",
              "              title=\"Convert this dataframe to an interactive table.\"\n",
              "              style=\"display:none;\">\n",
              "        \n",
              "  <svg xmlns=\"http://www.w3.org/2000/svg\" height=\"24px\"viewBox=\"0 0 24 24\"\n",
              "       width=\"24px\">\n",
              "    <path d=\"M0 0h24v24H0V0z\" fill=\"none\"/>\n",
              "    <path d=\"M18.56 5.44l.94 2.06.94-2.06 2.06-.94-2.06-.94-.94-2.06-.94 2.06-2.06.94zm-11 1L8.5 8.5l.94-2.06 2.06-.94-2.06-.94L8.5 2.5l-.94 2.06-2.06.94zm10 10l.94 2.06.94-2.06 2.06-.94-2.06-.94-.94-2.06-.94 2.06-2.06.94z\"/><path d=\"M17.41 7.96l-1.37-1.37c-.4-.4-.92-.59-1.43-.59-.52 0-1.04.2-1.43.59L10.3 9.45l-7.72 7.72c-.78.78-.78 2.05 0 2.83L4 21.41c.39.39.9.59 1.41.59.51 0 1.02-.2 1.41-.59l7.78-7.78 2.81-2.81c.8-.78.8-2.07 0-2.86zM5.41 20L4 18.59l7.72-7.72 1.47 1.35L5.41 20z\"/>\n",
              "  </svg>\n",
              "      </button>\n",
              "      \n",
              "  <style>\n",
              "    .colab-df-container {\n",
              "      display:flex;\n",
              "      flex-wrap:wrap;\n",
              "      gap: 12px;\n",
              "    }\n",
              "\n",
              "    .colab-df-convert {\n",
              "      background-color: #E8F0FE;\n",
              "      border: none;\n",
              "      border-radius: 50%;\n",
              "      cursor: pointer;\n",
              "      display: none;\n",
              "      fill: #1967D2;\n",
              "      height: 32px;\n",
              "      padding: 0 0 0 0;\n",
              "      width: 32px;\n",
              "    }\n",
              "\n",
              "    .colab-df-convert:hover {\n",
              "      background-color: #E2EBFA;\n",
              "      box-shadow: 0px 1px 2px rgba(60, 64, 67, 0.3), 0px 1px 3px 1px rgba(60, 64, 67, 0.15);\n",
              "      fill: #174EA6;\n",
              "    }\n",
              "\n",
              "    [theme=dark] .colab-df-convert {\n",
              "      background-color: #3B4455;\n",
              "      fill: #D2E3FC;\n",
              "    }\n",
              "\n",
              "    [theme=dark] .colab-df-convert:hover {\n",
              "      background-color: #434B5C;\n",
              "      box-shadow: 0px 1px 3px 1px rgba(0, 0, 0, 0.15);\n",
              "      filter: drop-shadow(0px 1px 2px rgba(0, 0, 0, 0.3));\n",
              "      fill: #FFFFFF;\n",
              "    }\n",
              "  </style>\n",
              "\n",
              "      <script>\n",
              "        const buttonEl =\n",
              "          document.querySelector('#df-f7be0ccd-c3c6-4f7d-a761-538b564b599c button.colab-df-convert');\n",
              "        buttonEl.style.display =\n",
              "          google.colab.kernel.accessAllowed ? 'block' : 'none';\n",
              "\n",
              "        async function convertToInteractive(key) {\n",
              "          const element = document.querySelector('#df-f7be0ccd-c3c6-4f7d-a761-538b564b599c');\n",
              "          const dataTable =\n",
              "            await google.colab.kernel.invokeFunction('convertToInteractive',\n",
              "                                                     [key], {});\n",
              "          if (!dataTable) return;\n",
              "\n",
              "          const docLinkHtml = 'Like what you see? Visit the ' +\n",
              "            '<a target=\"_blank\" href=https://colab.research.google.com/notebooks/data_table.ipynb>data table notebook</a>'\n",
              "            + ' to learn more about interactive tables.';\n",
              "          element.innerHTML = '';\n",
              "          dataTable['output_type'] = 'display_data';\n",
              "          await google.colab.output.renderOutput(dataTable, element);\n",
              "          const docLink = document.createElement('div');\n",
              "          docLink.innerHTML = docLinkHtml;\n",
              "          element.appendChild(docLink);\n",
              "        }\n",
              "      </script>\n",
              "    </div>\n",
              "  </div>\n",
              "  "
            ]
          },
          "metadata": {},
          "execution_count": 21
        }
      ]
    },
    {
      "cell_type": "markdown",
      "source": [
        "Model 2: Decision Tree Regressor Graph"
      ],
      "metadata": {
        "id": "hgnBM3WrEHqn"
      }
    },
    {
      "cell_type": "code",
      "source": [
        "from sklearn.tree import DecisionTreeRegressor\n",
        "from matplotlib import pyplot\n",
        "\n",
        "#define the model\n",
        "model2 = DecisionTreeRegressor()\n",
        "\n",
        "#fit the model\n",
        "model2.fit(X_train, Y_train)\n",
        "\n",
        "#get importance\n",
        "importance = model2.feature_importances_\n",
        "\n",
        "#plot feature importance\n",
        "pyplot.figure(figsize = (8,5))\n",
        "pyplot.bar([x for x in model2.feature_names_in_], importance)\n",
        "\n",
        "#titles\n",
        "pyplot.title('Decision Tree Regressor: Features Importance Bar Chart', fontsize = 15, color = 'Tab:blue')\n",
        "pyplot.xlabel(\"Features\", fontsize = 15)\n",
        "pyplot.ylabel('Importance Score', fontsize = 15)\n",
        "\n",
        "pyplot.xticks(fontsize = 10)\n",
        "pyplot.yticks(fontsize = 15)\n",
        "\n",
        "#returns graph\n",
        "pyplot.show()"
      ],
      "metadata": {
        "colab": {
          "base_uri": "https://localhost:8080/",
          "height": 358
        },
        "id": "RImxR8KA7Hgr",
        "outputId": "cdf710d0-48b0-4626-e7da-c57de493f7b6"
      },
      "execution_count": null,
      "outputs": [
        {
          "output_type": "display_data",
          "data": {
            "text/plain": [
              "<Figure size 576x360 with 1 Axes>"
            ],
            "image/png": "[encoded data removed]"
          },
          "metadata": {
            "needs_background": "light"
          }
        }
      ]
    },
    {
      "cell_type": "markdown",
      "source": [
        "Model 2: Decision Tree Regressor Results"
      ],
      "metadata": {
        "id": "aJ9HZi5OERWu"
      }
    },
    {
      "cell_type": "code",
      "source": [
        "summary2 = pd.DataFrame({'DTR Features': features_names , 'Scores': importance}) #extracts features and coefficients and organizes as a dataframe\n",
        "summary2 #reports dataframe with estimated parameters of the fit model"
      ],
      "metadata": {
        "colab": {
          "base_uri": "https://localhost:8080/",
          "height": 206
        },
        "id": "9YuHEgLpdSwI",
        "outputId": "346edd14-f396-494b-d5a3-4f0dabd8efc0"
      },
      "execution_count": null,
      "outputs": [
        {
          "output_type": "execute_result",
          "data": {
            "text/plain": [
              "         DTR Features    Scores\n",
              "0  housing_median_age  0.110723\n",
              "1         total_rooms  0.112989\n",
              "2      total_bedrooms  0.107015\n",
              "3          households  0.084052\n",
              "4       median_income  0.585222"
            ],
            "text/html": [
              "\n",
              "  <div id=\"df-472c8778-6271-4036-bc1c-49dcf144d18f\">\n",
              "    <div class=\"colab-df-container\">\n",
              "      <div>\n",
              "<style scoped>\n",
              "    .dataframe tbody tr th:only-of-type {\n",
              "        vertical-align: middle;\n",
              "    }\n",
              "\n",
              "    .dataframe tbody tr th {\n",
              "        vertical-align: top;\n",
              "    }\n",
              "\n",
              "    .dataframe thead th {\n",
              "        text-align: right;\n",
              "    }\n",
              "</style>\n",
              "<table border=\"1\" class=\"dataframe\">\n",
              "  <thead>\n",
              "    <tr style=\"text-align: right;\">\n",
              "      <th></th>\n",
              "      <th>DTR Features</th>\n",
              "      <th>Scores</th>\n",
              "    </tr>\n",
              "  </thead>\n",
              "  <tbody>\n",
              "    <tr>\n",
              "      <th>0</th>\n",
              "      <td>housing_median_age</td>\n",
              "      <td>0.110723</td>\n",
              "    </tr>\n",
              "    <tr>\n",
              "      <th>1</th>\n",
              "      <td>total_rooms</td>\n",
              "      <td>0.112989</td>\n",
              "    </tr>\n",
              "    <tr>\n",
              "      <th>2</th>\n",
              "      <td>total_bedrooms</td>\n",
              "      <td>0.107015</td>\n",
              "    </tr>\n",
              "    <tr>\n",
              "      <th>3</th>\n",
              "      <td>households</td>\n",
              "      <td>0.084052</td>\n",
              "    </tr>\n",
              "    <tr>\n",
              "      <th>4</th>\n",
              "      <td>median_income</td>\n",
              "      <td>0.585222</td>\n",
              "    </tr>\n",
              "  </tbody>\n",
              "</table>\n",
              "</div>\n",
              "      <button class=\"colab-df-convert\" onclick=\"convertToInteractive('df-472c8778-6271-4036-bc1c-49dcf144d18f')\"\n",
              "              title=\"Convert this dataframe to an interactive table.\"\n",
              "              style=\"display:none;\">\n",
              "        \n",
              "  <svg xmlns=\"http://www.w3.org/2000/svg\" height=\"24px\"viewBox=\"0 0 24 24\"\n",
              "       width=\"24px\">\n",
              "    <path d=\"M0 0h24v24H0V0z\" fill=\"none\"/>\n",
              "    <path d=\"M18.56 5.44l.94 2.06.94-2.06 2.06-.94-2.06-.94-.94-2.06-.94 2.06-2.06.94zm-11 1L8.5 8.5l.94-2.06 2.06-.94-2.06-.94L8.5 2.5l-.94 2.06-2.06.94zm10 10l.94 2.06.94-2.06 2.06-.94-2.06-.94-.94-2.06-.94 2.06-2.06.94z\"/><path d=\"M17.41 7.96l-1.37-1.37c-.4-.4-.92-.59-1.43-.59-.52 0-1.04.2-1.43.59L10.3 9.45l-7.72 7.72c-.78.78-.78 2.05 0 2.83L4 21.41c.39.39.9.59 1.41.59.51 0 1.02-.2 1.41-.59l7.78-7.78 2.81-2.81c.8-.78.8-2.07 0-2.86zM5.41 20L4 18.59l7.72-7.72 1.47 1.35L5.41 20z\"/>\n",
              "  </svg>\n",
              "      </button>\n",
              "      \n",
              "  <style>\n",
              "    .colab-df-container {\n",
              "      display:flex;\n",
              "      flex-wrap:wrap;\n",
              "      gap: 12px;\n",
              "    }\n",
              "\n",
              "    .colab-df-convert {\n",
              "      background-color: #E8F0FE;\n",
              "      border: none;\n",
              "      border-radius: 50%;\n",
              "      cursor: pointer;\n",
              "      display: none;\n",
              "      fill: #1967D2;\n",
              "      height: 32px;\n",
              "      padding: 0 0 0 0;\n",
              "      width: 32px;\n",
              "    }\n",
              "\n",
              "    .colab-df-convert:hover {\n",
              "      background-color: #E2EBFA;\n",
              "      box-shadow: 0px 1px 2px rgba(60, 64, 67, 0.3), 0px 1px 3px 1px rgba(60, 64, 67, 0.15);\n",
              "      fill: #174EA6;\n",
              "    }\n",
              "\n",
              "    [theme=dark] .colab-df-convert {\n",
              "      background-color: #3B4455;\n",
              "      fill: #D2E3FC;\n",
              "    }\n",
              "\n",
              "    [theme=dark] .colab-df-convert:hover {\n",
              "      background-color: #434B5C;\n",
              "      box-shadow: 0px 1px 3px 1px rgba(0, 0, 0, 0.15);\n",
              "      filter: drop-shadow(0px 1px 2px rgba(0, 0, 0, 0.3));\n",
              "      fill: #FFFFFF;\n",
              "    }\n",
              "  </style>\n",
              "\n",
              "      <script>\n",
              "        const buttonEl =\n",
              "          document.querySelector('#df-472c8778-6271-4036-bc1c-49dcf144d18f button.colab-df-convert');\n",
              "        buttonEl.style.display =\n",
              "          google.colab.kernel.accessAllowed ? 'block' : 'none';\n",
              "\n",
              "        async function convertToInteractive(key) {\n",
              "          const element = document.querySelector('#df-472c8778-6271-4036-bc1c-49dcf144d18f');\n",
              "          const dataTable =\n",
              "            await google.colab.kernel.invokeFunction('convertToInteractive',\n",
              "                                                     [key], {});\n",
              "          if (!dataTable) return;\n",
              "\n",
              "          const docLinkHtml = 'Like what you see? Visit the ' +\n",
              "            '<a target=\"_blank\" href=https://colab.research.google.com/notebooks/data_table.ipynb>data table notebook</a>'\n",
              "            + ' to learn more about interactive tables.';\n",
              "          element.innerHTML = '';\n",
              "          dataTable['output_type'] = 'display_data';\n",
              "          await google.colab.output.renderOutput(dataTable, element);\n",
              "          const docLink = document.createElement('div');\n",
              "          docLink.innerHTML = docLinkHtml;\n",
              "          element.appendChild(docLink);\n",
              "        }\n",
              "      </script>\n",
              "    </div>\n",
              "  </div>\n",
              "  "
            ]
          },
          "metadata": {},
          "execution_count": 23
        }
      ]
    },
    {
      "cell_type": "markdown",
      "source": [
        "Model 3: Random Forest Regressor Graph"
      ],
      "metadata": {
        "id": "mIeaJUxBErDP"
      }
    },
    {
      "cell_type": "code",
      "source": [
        "from sklearn.ensemble import RandomForestRegressor\n",
        "from matplotlib import pyplot\n",
        "\n",
        "#define the model\n",
        "model3 =  RandomForestRegressor()\n",
        "\n",
        "#fit the model\n",
        "model3.fit(X_train, Y_train)\n",
        "\n",
        "#get importance\n",
        "importance2 = model3.feature_importances_\n",
        "\n",
        "#plot feature importance\n",
        "pyplot.figure(figsize = (8,5))\n",
        "pyplot.bar([x for x in model3.feature_names_in_], importance2)\n",
        "\n",
        "#titles\n",
        "pyplot.title('Random Forest Regressor: Features Importance Bar Chart', fontsize = 15, color = 'Tab:blue')\n",
        "pyplot.xlabel(\"Features\", fontsize = 15)\n",
        "pyplot.ylabel('Importance Score', fontsize = 15)\n",
        "\n",
        "pyplot.xticks(fontsize = 10)\n",
        "pyplot.yticks(fontsize = 15)\n",
        "\n",
        "#returns graph\n",
        "pyplot.show()"
      ],
      "metadata": {
        "colab": {
          "base_uri": "https://localhost:8080/",
          "height": 413
        },
        "id": "25DHc0FF7Yqs",
        "outputId": "7c4eb464-48f0-4d30-a59f-10f2ff7dbe42"
      },
      "execution_count": null,
      "outputs": [
        {
          "output_type": "stream",
          "name": "stderr",
          "text": [
            "/usr/local/lib/python3.7/dist-packages/ipykernel_launcher.py:8: DataConversionWarning: A column-vector y was passed when a 1d array was expected. Please change the shape of y to (n_samples,), for example using ravel().\n",
            "  \n"
          ]
        },
        {
          "output_type": "display_data",
          "data": {
            "text/plain": [
              "<Figure size 576x360 with 1 Axes>"
            ],
            "image/png": "[encoded data removed]"
          },
          "metadata": {
            "needs_background": "light"
          }
        }
      ]
    },
    {
      "cell_type": "markdown",
      "source": [
        "Model 3: Random Forest Regressor Results"
      ],
      "metadata": {
        "id": "Z0X5EPN-Eygp"
      }
    },
    {
      "cell_type": "code",
      "source": [
        "summary3 = pd.DataFrame({'RFR Features': features_names , 'Scores': importance2}) #extracts features and coefficients and organizes as a dataframe\n",
        "summary3 #reports dataframe with estimated parameters of the fit model"
      ],
      "metadata": {
        "colab": {
          "base_uri": "https://localhost:8080/",
          "height": 206
        },
        "id": "vyjaeUqtdee2",
        "outputId": "799e509a-4f3d-472b-8e84-de627a998bce"
      },
      "execution_count": null,
      "outputs": [
        {
          "output_type": "execute_result",
          "data": {
            "text/plain": [
              "         RFR Features    Scores\n",
              "0  housing_median_age  0.112001\n",
              "1         total_rooms  0.111629\n",
              "2      total_bedrooms  0.104210\n",
              "3          households  0.084520\n",
              "4       median_income  0.587640"
            ],
            "text/html": [
              "\n",
              "  <div id=\"df-e5582a91-675d-43a0-bcf2-00064917c3ed\">\n",
              "    <div class=\"colab-df-container\">\n",
              "      <div>\n",
              "<style scoped>\n",
              "    .dataframe tbody tr th:only-of-type {\n",
              "        vertical-align: middle;\n",
              "    }\n",
              "\n",
              "    .dataframe tbody tr th {\n",
              "        vertical-align: top;\n",
              "    }\n",
              "\n",
              "    .dataframe thead th {\n",
              "        text-align: right;\n",
              "    }\n",
              "</style>\n",
              "<table border=\"1\" class=\"dataframe\">\n",
              "  <thead>\n",
              "    <tr style=\"text-align: right;\">\n",
              "      <th></th>\n",
              "      <th>RFR Features</th>\n",
              "      <th>Scores</th>\n",
              "    </tr>\n",
              "  </thead>\n",
              "  <tbody>\n",
              "    <tr>\n",
              "      <th>0</th>\n",
              "      <td>housing_median_age</td>\n",
              "      <td>0.112001</td>\n",
              "    </tr>\n",
              "    <tr>\n",
              "      <th>1</th>\n",
              "      <td>total_rooms</td>\n",
              "      <td>0.111629</td>\n",
              "    </tr>\n",
              "    <tr>\n",
              "      <th>2</th>\n",
              "      <td>total_bedrooms</td>\n",
              "      <td>0.104210</td>\n",
              "    </tr>\n",
              "    <tr>\n",
              "      <th>3</th>\n",
              "      <td>households</td>\n",
              "      <td>0.084520</td>\n",
              "    </tr>\n",
              "    <tr>\n",
              "      <th>4</th>\n",
              "      <td>median_income</td>\n",
              "      <td>0.587640</td>\n",
              "    </tr>\n",
              "  </tbody>\n",
              "</table>\n",
              "</div>\n",
              "      <button class=\"colab-df-convert\" onclick=\"convertToInteractive('df-e5582a91-675d-43a0-bcf2-00064917c3ed')\"\n",
              "              title=\"Convert this dataframe to an interactive table.\"\n",
              "              style=\"display:none;\">\n",
              "        \n",
              "  <svg xmlns=\"http://www.w3.org/2000/svg\" height=\"24px\"viewBox=\"0 0 24 24\"\n",
              "       width=\"24px\">\n",
              "    <path d=\"M0 0h24v24H0V0z\" fill=\"none\"/>\n",
              "    <path d=\"M18.56 5.44l.94 2.06.94-2.06 2.06-.94-2.06-.94-.94-2.06-.94 2.06-2.06.94zm-11 1L8.5 8.5l.94-2.06 2.06-.94-2.06-.94L8.5 2.5l-.94 2.06-2.06.94zm10 10l.94 2.06.94-2.06 2.06-.94-2.06-.94-.94-2.06-.94 2.06-2.06.94z\"/><path d=\"M17.41 7.96l-1.37-1.37c-.4-.4-.92-.59-1.43-.59-.52 0-1.04.2-1.43.59L10.3 9.45l-7.72 7.72c-.78.78-.78 2.05 0 2.83L4 21.41c.39.39.9.59 1.41.59.51 0 1.02-.2 1.41-.59l7.78-7.78 2.81-2.81c.8-.78.8-2.07 0-2.86zM5.41 20L4 18.59l7.72-7.72 1.47 1.35L5.41 20z\"/>\n",
              "  </svg>\n",
              "      </button>\n",
              "      \n",
              "  <style>\n",
              "    .colab-df-container {\n",
              "      display:flex;\n",
              "      flex-wrap:wrap;\n",
              "      gap: 12px;\n",
              "    }\n",
              "\n",
              "    .colab-df-convert {\n",
              "      background-color: #E8F0FE;\n",
              "      border: none;\n",
              "      border-radius: 50%;\n",
              "      cursor: pointer;\n",
              "      display: none;\n",
              "      fill: #1967D2;\n",
              "      height: 32px;\n",
              "      padding: 0 0 0 0;\n",
              "      width: 32px;\n",
              "    }\n",
              "\n",
              "    .colab-df-convert:hover {\n",
              "      background-color: #E2EBFA;\n",
              "      box-shadow: 0px 1px 2px rgba(60, 64, 67, 0.3), 0px 1px 3px 1px rgba(60, 64, 67, 0.15);\n",
              "      fill: #174EA6;\n",
              "    }\n",
              "\n",
              "    [theme=dark] .colab-df-convert {\n",
              "      background-color: #3B4455;\n",
              "      fill: #D2E3FC;\n",
              "    }\n",
              "\n",
              "    [theme=dark] .colab-df-convert:hover {\n",
              "      background-color: #434B5C;\n",
              "      box-shadow: 0px 1px 3px 1px rgba(0, 0, 0, 0.15);\n",
              "      filter: drop-shadow(0px 1px 2px rgba(0, 0, 0, 0.3));\n",
              "      fill: #FFFFFF;\n",
              "    }\n",
              "  </style>\n",
              "\n",
              "      <script>\n",
              "        const buttonEl =\n",
              "          document.querySelector('#df-e5582a91-675d-43a0-bcf2-00064917c3ed button.colab-df-convert');\n",
              "        buttonEl.style.display =\n",
              "          google.colab.kernel.accessAllowed ? 'block' : 'none';\n",
              "\n",
              "        async function convertToInteractive(key) {\n",
              "          const element = document.querySelector('#df-e5582a91-675d-43a0-bcf2-00064917c3ed');\n",
              "          const dataTable =\n",
              "            await google.colab.kernel.invokeFunction('convertToInteractive',\n",
              "                                                     [key], {});\n",
              "          if (!dataTable) return;\n",
              "\n",
              "          const docLinkHtml = 'Like what you see? Visit the ' +\n",
              "            '<a target=\"_blank\" href=https://colab.research.google.com/notebooks/data_table.ipynb>data table notebook</a>'\n",
              "            + ' to learn more about interactive tables.';\n",
              "          element.innerHTML = '';\n",
              "          dataTable['output_type'] = 'display_data';\n",
              "          await google.colab.output.renderOutput(dataTable, element);\n",
              "          const docLink = document.createElement('div');\n",
              "          docLink.innerHTML = docLinkHtml;\n",
              "          element.appendChild(docLink);\n",
              "        }\n",
              "      </script>\n",
              "    </div>\n",
              "  </div>\n",
              "  "
            ]
          },
          "metadata": {},
          "execution_count": 25
        }
      ]
    },
    {
      "cell_type": "markdown",
      "source": [
        "###Step 8: Improving Results"
      ],
      "metadata": {
        "id": "VPzIbXbcCSX2"
      }
    },
    {
      "cell_type": "markdown",
      "source": [
        "To improve the results of this experiment, the Random Forest Regressor can be tested against other regression models to ensure it is the best model for this problem.\n",
        "\n",
        "Another method would be to repeat this analysis by using the preprocessing function in step two to eliminate the household feature due its small significance for all three models. This would improve the accuracy metrics and feature importance results for the models.\n",
        "\n",
        "Furthermore, eliminating the total rooms feature would be useful when comparing the accuracy metrics for the Linear Regression model because this was the only feature that contained a negative significance compared to the other features. "
      ],
      "metadata": {
        "id": "X7FPt6y8HQSt"
      }
    },
    {
      "cell_type": "markdown",
      "source": [
        "###Step 9: Final Remarks"
      ],
      "metadata": {
        "id": "Q7IjECoDCX0x"
      }
    },
    {
      "cell_type": "markdown",
      "source": [
        "In this analysis, three models, Linear Regression, Decision Tree Regressor, and Random Tree Regressor, were used to address a specific regression problem. This problem required predicting the continuous value of the 'median_house_value' data within the california housing dataset. All three models were compared through the accuracy metrics to prove which model had the best performance.\n",
        "\n",
        "\n",
        "The target data point in this analysis was the median house value.\n",
        "\n",
        "\n",
        "The relevant features of this dataset included the house median age, total rooms, total bedrooms, househoulds, and median income.\n",
        "\n",
        "\n",
        "The results of this analysis proved the Random Forest Regressor to be the best model for this problem because it contained the least error in the accuracy metrics, while the Decision Tree Regressor had the most. \n",
        "\n",
        "When looking at the feature importance graphs for each model, the household feature contains the least significance, while median income contains the most. The only outlier is found in the Linear Regression graph where the total rooms feature has a negative significance compared to the other features. \n",
        "\n",
        "For future analysis, this project could be tested again while eliminating both the household feature and total rooms feature to prove if the Random Forest Regressor is still the best model for this problem. Another recommendation would be to test the Random Forest Regressor against other regression models to ensure it has the most accurate performance."
      ],
      "metadata": {
        "id": "KLK5paMpHSnS"
      }
    }
  ],
  "metadata": {
    "kernelspec": {
      "display_name": "Python 3",
      "language": "python",
      "name": "python3"
    },
    "language_info": {
      "codemirror_mode": {
        "name": "ipython",
        "version": 3
      },
      "file_extension": ".py",
      "mimetype": "text/x-python",
      "name": "python",
      "nbconvert_exporter": "python",
      "pygments_lexer": "ipython3",
      "version": "3.7.6"
    },
    "colab": {
      "provenance": [],
      "collapsed_sections": [
        "BXoVFmSLBjIl",
        "f3pU9F2EBowN",
        "Aji4ZMzdB90v",
        "kkL1DTUHCEtV",
        "9sBNO6nZCIBU",
        "VPzIbXbcCSX2",
        "Q7IjECoDCX0x"
      ],
      "include_colab_link": true
    }
  },
  "nbformat": 4,
  "nbformat_minor": 0
}